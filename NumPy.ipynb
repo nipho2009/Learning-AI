{
 "cells": [
  {
   "cell_type": "markdown",
   "metadata": {},
   "source": [
    "# Declare ndarray"
   ]
  },
  {
   "cell_type": "markdown",
   "metadata": {},
   "source": [
    "importing numpy as np"
   ]
  },
  {
   "cell_type": "code",
   "execution_count": 1,
   "metadata": {},
   "outputs": [],
   "source": [
    "import numpy as np"
   ]
  },
  {
   "cell_type": "markdown",
   "metadata": {},
   "source": [
    "Create ndarray using regular Python lists"
   ]
  },
  {
   "cell_type": "markdown",
   "metadata": {},
   "source": [
    "This is a 1D ndarray or rank 1 array"
   ]
  },
  {
   "cell_type": "code",
   "execution_count": 2,
   "metadata": {},
   "outputs": [],
   "source": [
    "x = np.array([1,2,3,4,5])"
   ]
  },
  {
   "cell_type": "code",
   "execution_count": 4,
   "metadata": {},
   "outputs": [
    {
     "name": "stdout",
     "output_type": "stream",
     "text": [
      "x =  [1 2 3 4 5]\n"
     ]
    }
   ],
   "source": [
    "print('x = ', x)"
   ]
  },
  {
   "cell_type": "code",
   "execution_count": 5,
   "metadata": {},
   "outputs": [
    {
     "name": "stdout",
     "output_type": "stream",
     "text": [
      "\n",
      "x dimensions:  (5,)\n",
      "x is an object of type:  <class 'numpy.ndarray'>\n",
      "The elements in x are of type:  int32\n"
     ]
    }
   ],
   "source": [
    "print()\n",
    "print('x dimensions: ', x.shape)\n",
    "print('x is an object of type: ', type(x))\n",
    "print('The elements in x are of type: ', x.dtype)"
   ]
  },
  {
   "cell_type": "code",
   "execution_count": 7,
   "metadata": {},
   "outputs": [
    {
     "name": "stdout",
     "output_type": "stream",
     "text": [
      "\n",
      "y =  ['Hello' 'World']\n",
      "\n",
      "y has dimension:  (2,)\n",
      "y is an object of type:  <class 'numpy.ndarray'>\n",
      "The elements in y are of type:  <U5\n"
     ]
    }
   ],
   "source": [
    "#We create a rank 1 ndarray that only contains strings\n",
    "y = np.array(['Hello','World'])\n",
    "\n",
    "#Print y\n",
    "print()\n",
    "print('y = ',y)\n",
    "print()\n",
    "\n",
    "# We print information about y\n",
    "print('y has dimension: ',y.shape)\n",
    "print('y is an object of type: ',type(y))\n",
    "print('The elements in y are of type: ',y.dtype)"
   ]
  },
  {
   "cell_type": "markdown",
   "metadata": {},
   "source": [
    "To see what happens if you mix data type for ndarrays"
   ]
  },
  {
   "cell_type": "code",
   "execution_count": 9,
   "metadata": {},
   "outputs": [
    {
     "name": "stdout",
     "output_type": "stream",
     "text": [
      "\n",
      "z =  ['Hello' '1' '2']\n",
      "\n",
      "z has dimension:  (3,)\n",
      "z is an object of type:  <class 'numpy.ndarray'>\n",
      "The elements in z are of type:  <U5\n"
     ]
    }
   ],
   "source": [
    "# We create a rank 1 ndarray that only contains strings and integers\n",
    "z = np.array(['Hello',1, 2])\n",
    "\n",
    "# We print z\n",
    "print()\n",
    "print('z = ',z)\n",
    "print()\n",
    "\n",
    "# We print information about z\n",
    "print('z has dimension: ',z.shape)\n",
    "print('z is an object of type: ',type(z))\n",
    "print('The elements in z are of type: ',z.dtype)"
   ]
  },
  {
   "cell_type": "markdown",
   "metadata": {},
   "source": [
    "Now creating rank 2 arrays"
   ]
  },
  {
   "cell_type": "code",
   "execution_count": 10,
   "metadata": {},
   "outputs": [
    {
     "name": "stdout",
     "output_type": "stream",
     "text": [
      "\n",
      "r =  [[ 1  2  3]\n",
      " [ 4  5  6]\n",
      " [ 7  8  9]\n",
      " [10 11 12]]\n",
      "\n",
      "r has dimension:  (4, 3)\n",
      "r has a total of  12  elements\n",
      "r is an object of type:  <class 'numpy.ndarray'>\n",
      "The elements in r are of type:  int32\n"
     ]
    }
   ],
   "source": [
    "# We create a rank 2 ndarray that only contains integers\n",
    "r = np.array([[1,2,3],[4,5,6],[7,8,9],[10,11,12]])\n",
    "\n",
    "# We print r\n",
    "print()\n",
    "print('r = ',r)\n",
    "print()\n",
    "\n",
    "# We print information about r\n",
    "print('r has dimension: ', r.shape)\n",
    "print('r has a total of ', r.size, ' elements')\n",
    "print('r is an object of type: ',type(r))\n",
    "print('The elements in r are of type: ',r.dtype)"
   ]
  },
  {
   "cell_type": "markdown",
   "metadata": {},
   "source": [
    "Specifying the data type for the ndarray"
   ]
  },
  {
   "cell_type": "code",
   "execution_count": 12,
   "metadata": {},
   "outputs": [
    {
     "name": "stdout",
     "output_type": "stream",
     "text": [
      "\n",
      "t =  [1 2 3 4 5]\n",
      "\n",
      "The elements in t are of type:  int32\n"
     ]
    }
   ],
   "source": [
    "# We create a rank 1 ndarray of floats but set the dtype to int32\n",
    "t = np.array([1.5, 2.2, 3.4, 4.3, 5.6], dtype = np.int32)\n",
    "\n",
    "# We print t\n",
    "print()\n",
    "print('t = ', t)\n",
    "print()\n",
    "\n",
    "# We print the dtype t\n",
    "print('The elements in t are of type: ', t.dtype)"
   ]
  },
  {
   "cell_type": "markdown",
   "metadata": {},
   "source": [
    "Saving ndarray to be used later"
   ]
  },
  {
   "cell_type": "code",
   "execution_count": 13,
   "metadata": {},
   "outputs": [],
   "source": [
    "# We save x into the current directory as\n",
    "np.save('my_array', x)"
   ]
  },
  {
   "cell_type": "markdown",
   "metadata": {},
   "source": [
    "loading the saved array into a variable"
   ]
  },
  {
   "cell_type": "code",
   "execution_count": 14,
   "metadata": {},
   "outputs": [
    {
     "name": "stdout",
     "output_type": "stream",
     "text": [
      "\n",
      "q =  [1 2 3 4 5]\n",
      "\n",
      "q is an object of type:  <class 'numpy.ndarray'>\n",
      "The elements in q are of type:  int32\n"
     ]
    }
   ],
   "source": [
    "# We load the saved array from our current directory into a variable q\n",
    "q = np.load('my_array.npy')\n",
    "\n",
    "# We print q\n",
    "print()\n",
    "print('q = ', q)\n",
    "print()\n",
    "\n",
    "# We print information about the ndarray we loaded\n",
    "print('q is an object of type: ', type(q))\n",
    "print('The elements in q are of type: ', q.dtype)"
   ]
  },
  {
   "cell_type": "markdown",
   "metadata": {},
   "source": [
    "# Built-in Functions"
   ]
  },
  {
   "cell_type": "markdown",
   "metadata": {},
   "source": [
    "Creating ndarray with a specified shape that is full of zeros"
   ]
  },
  {
   "cell_type": "code",
   "execution_count": 16,
   "metadata": {},
   "outputs": [
    {
     "name": "stdout",
     "output_type": "stream",
     "text": [
      "\n",
      "x = \n",
      " [[0. 0. 0. 0.]\n",
      " [0. 0. 0. 0.]\n",
      " [0. 0. 0. 0.]]\n",
      "\n",
      "x has dimension:  (3, 4)\n",
      "x is an object of type:  <class 'numpy.ndarray'>\n",
      "The elements in x are of type:  float64\n"
     ]
    }
   ],
   "source": [
    "# We create a 3 x 4 ndarray full of zeros.\n",
    "x = np.zeros((3,4))\n",
    "\n",
    "# We print x\n",
    "print()\n",
    "print(\"x = \\n\", x)\n",
    "print()\n",
    "\n",
    "# We print information about x\n",
    "print(\"x has dimension: \",x.shape)\n",
    "print(\"x is an object of type: \", type(x))\n",
    "print(\"The elements in x are of type: \", x.dtype)"
   ]
  },
  {
   "cell_type": "markdown",
   "metadata": {},
   "source": [
    "Creating ndarray of ones"
   ]
  },
  {
   "cell_type": "code",
   "execution_count": 18,
   "metadata": {},
   "outputs": [
    {
     "name": "stdout",
     "output_type": "stream",
     "text": [
      "\n",
      "x = \n",
      " [[1. 1.]\n",
      " [1. 1.]\n",
      " [1. 1.]]\n",
      "\n",
      "x has dimension:  (3, 2)\n",
      "x is an object of type:  <class 'numpy.ndarray'>\n",
      "The elements in x are of type:  float64\n"
     ]
    }
   ],
   "source": [
    "# We create a 3 x 2 ndarray full of ones.\n",
    "x = np.ones((3,2))\n",
    "\n",
    "# We print x\n",
    "print()\n",
    "print(\"x = \\n\", x)\n",
    "print()\n",
    "\n",
    "# We print information about x\n",
    "print(\"x has dimension: \",x.shape)\n",
    "print(\"x is an object of type: \", type(x))\n",
    "print(\"The elements in x are of type: \", x.dtype)"
   ]
  },
  {
   "cell_type": "markdown",
   "metadata": {},
   "source": [
    "Create ndarray of constant value"
   ]
  },
  {
   "cell_type": "code",
   "execution_count": 19,
   "metadata": {},
   "outputs": [
    {
     "name": "stdout",
     "output_type": "stream",
     "text": [
      "\n",
      "x = \n",
      " [[5 5 5]\n",
      " [5 5 5]]\n",
      "\n",
      "x has dimension:  (2, 3)\n",
      "x is an object of type:  <class 'numpy.ndarray'>\n",
      "The elements in x are of type:  int32\n"
     ]
    }
   ],
   "source": [
    "# We create a 2 x 3 ndarray full of fives\n",
    "x = np.full((2,3),5)\n",
    "\n",
    "# We print x\n",
    "print()\n",
    "print(\"x = \\n\", x)\n",
    "print()\n",
    "\n",
    "# We print information about x\n",
    "print(\"x has dimension: \",x.shape)\n",
    "print(\"x is an object of type: \", type(x))\n",
    "print(\"The elements in x are of type: \", x.dtype)"
   ]
  },
  {
   "cell_type": "markdown",
   "metadata": {},
   "source": [
    "Create N x N ndarray corresponding to the Identity matrix"
   ]
  },
  {
   "cell_type": "code",
   "execution_count": 20,
   "metadata": {},
   "outputs": [
    {
     "name": "stdout",
     "output_type": "stream",
     "text": [
      "\n",
      "x = \n",
      " [[1. 0. 0. 0. 0.]\n",
      " [0. 1. 0. 0. 0.]\n",
      " [0. 0. 1. 0. 0.]\n",
      " [0. 0. 0. 1. 0.]\n",
      " [0. 0. 0. 0. 1.]]\n",
      "\n",
      "x has dimension:  (5, 5)\n",
      "x is an object of type:  <class 'numpy.ndarray'>\n",
      "The elements in x are of type:  float64\n"
     ]
    }
   ],
   "source": [
    "# We create a 5 x 5 Identity matrix.\n",
    "x = np.eye(5)\n",
    "\n",
    "# We print x\n",
    "print()\n",
    "print(\"x = \\n\", x)\n",
    "print()\n",
    "\n",
    "# We print information about x\n",
    "print(\"x has dimension: \",x.shape)\n",
    "print(\"x is an object of type: \", type(x))\n",
    "print(\"The elements in x are of type: \", x.dtype)"
   ]
  },
  {
   "cell_type": "markdown",
   "metadata": {},
   "source": [
    "Create a Diagonal matrix"
   ]
  },
  {
   "cell_type": "code",
   "execution_count": 21,
   "metadata": {
    "scrolled": true
   },
   "outputs": [
    {
     "name": "stdout",
     "output_type": "stream",
     "text": [
      "\n",
      "x = \n",
      " [[10  0  0  0]\n",
      " [ 0 20  0  0]\n",
      " [ 0  0 30  0]\n",
      " [ 0  0  0 50]]\n",
      "\n",
      "x has dimension:  (4, 4)\n",
      "x is an object of type:  <class 'numpy.ndarray'>\n",
      "The elements in x are of type:  int32\n"
     ]
    }
   ],
   "source": [
    "# Create a 4 x 4 diagonal matrix that contains the numbers 10, 20, 30, and 50\n",
    "# on its main diagonal\n",
    "x = np.diag([10,20,30,50])\n",
    "\n",
    "# We print\n",
    "print()\n",
    "print(\"x = \\n\", x)\n",
    "print()\n",
    "\n",
    "# We print information about x\n",
    "print(\"x has dimension: \",x.shape)\n",
    "print(\"x is an object of type: \", type(x))\n",
    "print(\"The elements in x are of type: \", x.dtype)"
   ]
  },
  {
   "cell_type": "markdown",
   "metadata": {},
   "source": [
    "Create rank 1 ndarray using arange from 0 to N-1"
   ]
  },
  {
   "cell_type": "code",
   "execution_count": 23,
   "metadata": {},
   "outputs": [
    {
     "name": "stdout",
     "output_type": "stream",
     "text": [
      "\n",
      "x = \n",
      " [0 1 2 3 4 5 6 7 8 9]\n",
      "\n",
      "x has dimension:  (10,)\n",
      "x is an object of type:  <class 'numpy.ndarray'>\n",
      "The elements in x are of type:  int32\n"
     ]
    }
   ],
   "source": [
    "# We create a rank 1 ndarray that has sequential integers from 0 to 9\n",
    "x = np.arange(10)\n",
    "\n",
    "# We print the ndarray\n",
    "print()\n",
    "print(\"x = \\n\", x)\n",
    "print()\n",
    "\n",
    "# We print information about x\n",
    "print(\"x has dimension: \",x.shape)\n",
    "print(\"x is an object of type: \", type(x))\n",
    "print(\"The elements in x are of type: \", x.dtype)"
   ]
  },
  {
   "cell_type": "markdown",
   "metadata": {},
   "source": [
    "Create a rank 1 ndarray with arange and start and stop value"
   ]
  },
  {
   "cell_type": "code",
   "execution_count": 24,
   "metadata": {},
   "outputs": [
    {
     "name": "stdout",
     "output_type": "stream",
     "text": [
      "\n",
      "x = \n",
      " [4 5 6 7 8 9]\n",
      "\n",
      "x has dimension:  (6,)\n",
      "x is an object of type:  <class 'numpy.ndarray'>\n",
      "The elements in x are of type:  int32\n"
     ]
    }
   ],
   "source": [
    "# We create a rank 1 ndarray that has sequential integers from 4 to 9\n",
    "x = np.arange(4,10)\n",
    "\n",
    "# We print the ndarray\n",
    "print()\n",
    "print(\"x = \\n\", x)\n",
    "print()\n",
    "\n",
    "# We print information about x\n",
    "print(\"x has dimension: \",x.shape)\n",
    "print(\"x is an object of type: \", type(x))\n",
    "print(\"The elements in x are of type: \", x.dtype)"
   ]
  },
  {
   "cell_type": "markdown",
   "metadata": {},
   "source": [
    "Create rank 1 ndarray with step value"
   ]
  },
  {
   "cell_type": "code",
   "execution_count": 25,
   "metadata": {
    "scrolled": true
   },
   "outputs": [
    {
     "name": "stdout",
     "output_type": "stream",
     "text": [
      "\n",
      "x = \n",
      " [ 1  4  7 10 13]\n",
      "\n",
      "x has dimension:  (5,)\n",
      "x is an object of type:  <class 'numpy.ndarray'>\n",
      "The elements in x are of type:  int32\n"
     ]
    }
   ],
   "source": [
    "# We create rank 1 ndarray that has evenly spaced integers from 1 to 13 in steps of 3\n",
    "x = np.arange(1,14,3)\n",
    "\n",
    "# We print the ndarray\n",
    "print()\n",
    "print(\"x = \\n\", x)\n",
    "print()\n",
    "\n",
    "# We print information about x\n",
    "print(\"x has dimension: \",x.shape)\n",
    "print(\"x is an object of type: \", type(x))\n",
    "print(\"The elements in x are of type: \", x.dtype)"
   ]
  },
  {
   "cell_type": "markdown",
   "metadata": {},
   "source": [
    "Create ndarray that include the the start and end value and evenly spaced. Needs to be called with minimum of 2 arguments"
   ]
  },
  {
   "cell_type": "code",
   "execution_count": 27,
   "metadata": {},
   "outputs": [
    {
     "name": "stdout",
     "output_type": "stream",
     "text": [
      "\n",
      "x = \n",
      " [ 0.          2.77777778  5.55555556  8.33333333 11.11111111 13.88888889\n",
      " 16.66666667 19.44444444 22.22222222 25.        ]\n",
      "\n",
      "x has dimension:  (10,)\n",
      "x is an object of type:  <class 'numpy.ndarray'>\n",
      "The elements in x are of type:  float64\n"
     ]
    }
   ],
   "source": [
    "# We create a rank 1 ndarray that has 10 integers evenly spaced between 0 and 25.\n",
    "x = np.linspace(0, 25, 10)\n",
    "\n",
    "# We print ndarray\n",
    "print()\n",
    "print(\"x = \\n\", x)\n",
    "print()\n",
    "\n",
    "# We print information about x\n",
    "print(\"x has dimension: \",x.shape)\n",
    "print(\"x is an object of type: \", type(x))\n",
    "print(\"The elements in x are of type: \", x.dtype)"
   ]
  },
  {
   "cell_type": "markdown",
   "metadata": {},
   "source": [
    "Create linspace() ndarray excluding the end value"
   ]
  },
  {
   "cell_type": "code",
   "execution_count": 28,
   "metadata": {},
   "outputs": [
    {
     "name": "stdout",
     "output_type": "stream",
     "text": [
      "\n",
      "x = \n",
      " [ 0.   2.5  5.   7.5 10.  12.5 15.  17.5 20.  22.5]\n",
      "\n",
      "x has dimension:  (10,)\n",
      "x is an object of type:  <class 'numpy.ndarray'>\n",
      "The elements in x are of type:  float64\n"
     ]
    }
   ],
   "source": [
    "# We create a rank 1 ndarray that has 10 integers evenly spaced between 0 and 25, with 25 excluded.\n",
    "x = np.linspace(0, 25, 10, endpoint=False)\n",
    "\n",
    "# We print ndarray\n",
    "print()\n",
    "print(\"x = \\n\", x)\n",
    "print()\n",
    "\n",
    "# We print information about x\n",
    "print(\"x has dimension: \",x.shape)\n",
    "print(\"x is an object of type: \", type(x))\n",
    "print(\"The elements in x are of type: \", x.dtype)"
   ]
  },
  {
   "cell_type": "markdown",
   "metadata": {},
   "source": [
    "Changing a rank 1 ndarray to rank 2 ndarray"
   ]
  },
  {
   "cell_type": "code",
   "execution_count": 30,
   "metadata": {
    "scrolled": true
   },
   "outputs": [
    {
     "name": "stdout",
     "output_type": "stream",
     "text": [
      "\n",
      "Original x =  [ 0  1  2  3  4  5  6  7  8  9 10 11 12 13 14 15 16 17 18 19]\n",
      "\n",
      "\n",
      "Reshaped x = \n",
      " [[ 0  1  2  3  4]\n",
      " [ 5  6  7  8  9]\n",
      " [10 11 12 13 14]\n",
      " [15 16 17 18 19]]\n",
      "\n",
      "x has dimension:  (4, 5)\n",
      "x is an object of type:  <class 'numpy.ndarray'>\n",
      "The elements in x are of type:  int32\n"
     ]
    }
   ],
   "source": [
    "# We create a rank 1 ndarray with sequential integers from 0 to 19\n",
    "x = np.arange(20)\n",
    "\n",
    "# We print x\n",
    "print()\n",
    "print(\"Original x = \", x)\n",
    "print()\n",
    "\n",
    "# We reshape x into a 4 x 5 ndarray\n",
    "x = np.reshape(x, (4, 5))\n",
    "\n",
    "# We print the reshaped x\n",
    "print()\n",
    "print(\"Reshaped x = \\n\", x)\n",
    "print()\n",
    "\n",
    "# We print information about x\n",
    "print(\"x has dimension: \",x.shape)\n",
    "print(\"x is an object of type: \", type(x))\n",
    "print(\"The elements in x are of type: \", x.dtype)"
   ]
  },
  {
   "cell_type": "markdown",
   "metadata": {},
   "source": [
    "Applying some functions as methods with dot notation "
   ]
  },
  {
   "cell_type": "code",
   "execution_count": 32,
   "metadata": {},
   "outputs": [
    {
     "name": "stdout",
     "output_type": "stream",
     "text": [
      "\n",
      "x = \n",
      " [[ 0  1  2  3  4]\n",
      " [ 5  6  7  8  9]\n",
      " [10 11 12 13 14]\n",
      " [15 16 17 18 19]]\n",
      "\n",
      "x has dimension:  (4, 5)\n",
      "x is an object of type:  <class 'numpy.ndarray'>\n",
      "The elements in x are of type:  int32\n"
     ]
    }
   ],
   "source": [
    "# We create a rank 1 ndarray with sequential integers from 0 to 19 and reshape it to a 4 x 5 array\n",
    "x = np.arange(20).reshape(4,5)\n",
    "\n",
    "# We print x\n",
    "print()\n",
    "print(\"x = \\n\", x)\n",
    "print()\n",
    "\n",
    "# We print information about x\n",
    "print(\"x has dimension: \",x.shape)\n",
    "print(\"x is an object of type: \", type(x))\n",
    "print(\"The elements in x are of type: \", x.dtype)"
   ]
  },
  {
   "cell_type": "markdown",
   "metadata": {},
   "source": [
    "Create ndarrays using random"
   ]
  },
  {
   "cell_type": "code",
   "execution_count": 33,
   "metadata": {},
   "outputs": [
    {
     "name": "stdout",
     "output_type": "stream",
     "text": [
      "\n",
      "x = \n",
      " [[0.69416595 0.4842607  0.46265373]\n",
      " [0.53364906 0.59985852 0.25222945]\n",
      " [0.7542771  0.64090784 0.935457  ]]\n",
      "\n",
      "x has dimension:  (3, 3)\n",
      "x is an object of type:  <class 'numpy.ndarray'>\n",
      "The elements in x are of type:  float64\n"
     ]
    }
   ],
   "source": [
    "# We create a 3 x 3 ndarray with random floats in the half-open interval [0.0, 1.0)\n",
    "x = np.random.random((3,3))\n",
    "\n",
    "# We print x\n",
    "print()\n",
    "print(\"x = \\n\", x)\n",
    "print()\n",
    "\n",
    "# We print information about x\n",
    "print(\"x has dimension: \",x.shape)\n",
    "print(\"x is an object of type: \", type(x))\n",
    "print(\"The elements in x are of type: \", x.dtype)"
   ]
  },
  {
   "cell_type": "code",
   "execution_count": 34,
   "metadata": {},
   "outputs": [
    {
     "name": "stdout",
     "output_type": "stream",
     "text": [
      "\n",
      "x = \n",
      " [[ 5  4]\n",
      " [12 12]\n",
      " [ 5 10]]\n",
      "\n",
      "x has dimension:  (3, 2)\n",
      "x is an object of type:  <class 'numpy.ndarray'>\n",
      "The elements in x are of type:  int32\n"
     ]
    }
   ],
   "source": [
    "# We create a 3 x 2 ndarray with random integers in the half-open inteval [4, 15)\n",
    "x = np.random.randint(4,15,size=(3,2))\n",
    "\n",
    "# We print x\n",
    "print()\n",
    "print(\"x = \\n\", x)\n",
    "print()\n",
    "\n",
    "# We print information about x\n",
    "print(\"x has dimension: \",x.shape)\n",
    "print(\"x is an object of type: \", type(x))\n",
    "print(\"The elements in x are of type: \", x.dtype)"
   ]
  },
  {
   "cell_type": "code",
   "execution_count": 36,
   "metadata": {},
   "outputs": [
    {
     "name": "stdout",
     "output_type": "stream",
     "text": [
      "\n",
      "x = \n",
      " [[ 0.15465236 -0.03702177  0.14751011 ... -0.04954508  0.17177945\n",
      "  -0.04219985]\n",
      " [-0.05247782 -0.01660921  0.20578362 ...  0.0995572  -0.12781023\n",
      "  -0.09048748]\n",
      " [ 0.08385701  0.03496921  0.041879   ...  0.12815127  0.1161466\n",
      "   0.05742066]\n",
      " ...\n",
      " [ 0.01585508 -0.02128012  0.01972747 ... -0.09435382  0.02163721\n",
      "  -0.21488638]\n",
      " [-0.08036494  0.09242109 -0.14372407 ... -0.0140139  -0.1567584\n",
      "  -0.06245101]\n",
      " [ 0.05714521  0.20894729 -0.11303502 ...  0.14396734  0.03373328\n",
      "  -0.13557734]]\n",
      "\n",
      "x has dimension:  (1000, 1000)\n",
      "x is an object of type:  <class 'numpy.ndarray'>\n",
      "The elements in x are of type:  float64\n",
      "The elements in x have a mean of:  -6.382636231066508e-05\n",
      "The maximum value in x is:  0.5008051108100746\n",
      "The minimum value in x is:  -0.4694994609241822\n",
      "x has  500366  negative numbers\n",
      "x has  499634 positive numbers\n"
     ]
    }
   ],
   "source": [
    "# We create a 1000 x 1000 ndarray of random floats drawn from normal (Gaussian) distribution\n",
    "# with a mean of zero and a standard deviation of 0.1.\n",
    "x = np.random.normal(0, 0.1, size=(1000,1000))\n",
    "\n",
    "# We print x\n",
    "print()\n",
    "print(\"x = \\n\", x)\n",
    "print()\n",
    "\n",
    "# We print information about x\n",
    "print(\"x has dimension: \",x.shape)\n",
    "print(\"x is an object of type: \", type(x))\n",
    "print(\"The elements in x are of type: \", x.dtype)\n",
    "print(\"The elements in x have a mean of: \", x.mean())\n",
    "print(\"The maximum value in x is: \",x.max())\n",
    "print(\"The minimum value in x is: \",x.min())\n",
    "print(\"x has \", (x < 0).sum(), \" negative numbers\")\n",
    "print(\"x has \", (x > 0).sum(), \"positive numbers\")"
   ]
  },
  {
   "cell_type": "code",
   "execution_count": null,
   "metadata": {},
   "outputs": [],
   "source": []
  }
 ],
 "metadata": {
  "kernelspec": {
   "display_name": "Python 3",
   "language": "python",
   "name": "python3"
  },
  "language_info": {
   "codemirror_mode": {
    "name": "ipython",
    "version": 3
   },
   "file_extension": ".py",
   "mimetype": "text/x-python",
   "name": "python",
   "nbconvert_exporter": "python",
   "pygments_lexer": "ipython3",
   "version": "3.7.4"
  }
 },
 "nbformat": 4,
 "nbformat_minor": 2
}
